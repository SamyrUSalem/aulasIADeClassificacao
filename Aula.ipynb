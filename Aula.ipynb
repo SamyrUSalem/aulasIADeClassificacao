{
 "cells": [
  {
   "cell_type": "markdown",
   "metadata": {
    "id": "MCqTDybk4ShK"
   },
   "source": [
    "# <font color='dark'>**Classificação: Validação de modelos e métricas de avaliação**</h1>"
   ]
  },
  {
   "cell_type": "markdown",
   "metadata": {
    "id": "WscU3KG7a9No"
   },
   "source": [
    "### Projeto\n",
    "\n",
    "Uma empresa de empréstimo de automóveis está passando por uma situação complicada, com alta demanda para uma frota reduzida de veículos e alto número de inadimplentes, trazendo um prejuízo grande para a empresa.\n",
    "\n",
    "Nós fomos contratados para buscar melhorias na identificação de inadimplentes. A análise dos clientes atualmente é feita de forma manual, cliente por cliente, tomando muito tempo e ainda assim a detecção de inadimplentes é muito imprecisa.\n",
    "\n",
    "Nossa tarefa é utilizar os dados fornecidos pela empresa para **classificar** os clientes em adimplentes e inadimplentes."
   ]
  },
  {
   "cell_type": "markdown",
   "metadata": {
    "id": "WgS8iF51Csrn"
   },
   "source": [
    "## <font color='dark'>Classificando dados</h1>"
   ]
  },
  {
   "cell_type": "markdown",
   "metadata": {
    "id": "6lExmBuKn-xe"
   },
   "source": [
    "### Criando um modelo inicial"
   ]
  },
  {
   "cell_type": "code",
   "execution_count": 1,
   "metadata": {
    "id": "ZP9giPwL7Qvz"
   },
   "outputs": [],
   "source": [
    "import pandas as pd"
   ]
  },
  {
   "cell_type": "code",
   "execution_count": 2,
   "metadata": {
    "id": "w1MaIGaj7UZL"
   },
   "outputs": [],
   "source": [
    "dados = pd.read_csv('./emp_automovel.csv')"
   ]
  },
  {
   "cell_type": "code",
   "execution_count": 3,
   "metadata": {
    "id": "ef4aPUAHkyLQ"
   },
   "outputs": [
    {
     "data": {
      "text/html": [
       "<div>\n",
       "<style scoped>\n",
       "    .dataframe tbody tr th:only-of-type {\n",
       "        vertical-align: middle;\n",
       "    }\n",
       "\n",
       "    .dataframe tbody tr th {\n",
       "        vertical-align: top;\n",
       "    }\n",
       "\n",
       "    .dataframe thead th {\n",
       "        text-align: right;\n",
       "    }\n",
       "</style>\n",
       "<table border=\"1\" class=\"dataframe\">\n",
       "  <thead>\n",
       "    <tr style=\"text-align: right;\">\n",
       "      <th></th>\n",
       "      <th>receita_cliente</th>\n",
       "      <th>anuidade_emprestimo</th>\n",
       "      <th>anos_casa_propria</th>\n",
       "      <th>telefone_trab</th>\n",
       "      <th>avaliacao_cidade</th>\n",
       "      <th>score_1</th>\n",
       "      <th>score_2</th>\n",
       "      <th>score_3</th>\n",
       "      <th>score_social</th>\n",
       "      <th>troca_telefone</th>\n",
       "      <th>inadimplente</th>\n",
       "    </tr>\n",
       "  </thead>\n",
       "  <tbody>\n",
       "    <tr>\n",
       "      <th>0</th>\n",
       "      <td>12600.000000</td>\n",
       "      <td>3569.400000</td>\n",
       "      <td>12.157324</td>\n",
       "      <td>1</td>\n",
       "      <td>2.0</td>\n",
       "      <td>0.057153</td>\n",
       "      <td>0.527227</td>\n",
       "      <td>0.513171</td>\n",
       "      <td>0.117428</td>\n",
       "      <td>2545.000000</td>\n",
       "      <td>0</td>\n",
       "    </tr>\n",
       "    <tr>\n",
       "      <th>1</th>\n",
       "      <td>9000.000000</td>\n",
       "      <td>2722.188351</td>\n",
       "      <td>7.000000</td>\n",
       "      <td>0</td>\n",
       "      <td>2.0</td>\n",
       "      <td>0.657661</td>\n",
       "      <td>0.285898</td>\n",
       "      <td>0.614414</td>\n",
       "      <td>0.222700</td>\n",
       "      <td>495.000000</td>\n",
       "      <td>0</td>\n",
       "    </tr>\n",
       "    <tr>\n",
       "      <th>2</th>\n",
       "      <td>15750.000000</td>\n",
       "      <td>4477.500000</td>\n",
       "      <td>12.000000</td>\n",
       "      <td>0</td>\n",
       "      <td>2.0</td>\n",
       "      <td>0.501213</td>\n",
       "      <td>0.695423</td>\n",
       "      <td>0.513171</td>\n",
       "      <td>0.117428</td>\n",
       "      <td>1212.000000</td>\n",
       "      <td>0</td>\n",
       "    </tr>\n",
       "    <tr>\n",
       "      <th>3</th>\n",
       "      <td>9000.000000</td>\n",
       "      <td>1309.050000</td>\n",
       "      <td>12.157324</td>\n",
       "      <td>0</td>\n",
       "      <td>3.0</td>\n",
       "      <td>0.501213</td>\n",
       "      <td>0.155973</td>\n",
       "      <td>0.513171</td>\n",
       "      <td>0.117428</td>\n",
       "      <td>515.000000</td>\n",
       "      <td>0</td>\n",
       "    </tr>\n",
       "    <tr>\n",
       "      <th>4</th>\n",
       "      <td>7650.000000</td>\n",
       "      <td>1125.000000</td>\n",
       "      <td>12.157324</td>\n",
       "      <td>0</td>\n",
       "      <td>2.0</td>\n",
       "      <td>0.294328</td>\n",
       "      <td>0.152076</td>\n",
       "      <td>0.513171</td>\n",
       "      <td>0.117428</td>\n",
       "      <td>162.000000</td>\n",
       "      <td>0</td>\n",
       "    </tr>\n",
       "    <tr>\n",
       "      <th>...</th>\n",
       "      <td>...</td>\n",
       "      <td>...</td>\n",
       "      <td>...</td>\n",
       "      <td>...</td>\n",
       "      <td>...</td>\n",
       "      <td>...</td>\n",
       "      <td>...</td>\n",
       "      <td>...</td>\n",
       "      <td>...</td>\n",
       "      <td>...</td>\n",
       "      <td>...</td>\n",
       "    </tr>\n",
       "    <tr>\n",
       "      <th>54020</th>\n",
       "      <td>16855.246324</td>\n",
       "      <td>675.000000</td>\n",
       "      <td>12.157324</td>\n",
       "      <td>1</td>\n",
       "      <td>2.0</td>\n",
       "      <td>0.501213</td>\n",
       "      <td>0.180635</td>\n",
       "      <td>0.513171</td>\n",
       "      <td>0.082500</td>\n",
       "      <td>0.000000</td>\n",
       "      <td>1</td>\n",
       "    </tr>\n",
       "    <tr>\n",
       "      <th>54021</th>\n",
       "      <td>11250.000000</td>\n",
       "      <td>675.000000</td>\n",
       "      <td>14.000000</td>\n",
       "      <td>0</td>\n",
       "      <td>3.0</td>\n",
       "      <td>0.409620</td>\n",
       "      <td>0.606002</td>\n",
       "      <td>0.513171</td>\n",
       "      <td>0.117428</td>\n",
       "      <td>466.000000</td>\n",
       "      <td>1</td>\n",
       "    </tr>\n",
       "    <tr>\n",
       "      <th>54022</th>\n",
       "      <td>13500.000000</td>\n",
       "      <td>900.000000</td>\n",
       "      <td>64.000000</td>\n",
       "      <td>0</td>\n",
       "      <td>2.0</td>\n",
       "      <td>0.162632</td>\n",
       "      <td>0.525412</td>\n",
       "      <td>0.513171</td>\n",
       "      <td>0.117428</td>\n",
       "      <td>962.106056</td>\n",
       "      <td>1</td>\n",
       "    </tr>\n",
       "    <tr>\n",
       "      <th>54023</th>\n",
       "      <td>11250.000000</td>\n",
       "      <td>2371.500000</td>\n",
       "      <td>12.157324</td>\n",
       "      <td>0</td>\n",
       "      <td>3.0</td>\n",
       "      <td>0.501213</td>\n",
       "      <td>0.664027</td>\n",
       "      <td>0.513171</td>\n",
       "      <td>0.117428</td>\n",
       "      <td>482.000000</td>\n",
       "      <td>1</td>\n",
       "    </tr>\n",
       "    <tr>\n",
       "      <th>54024</th>\n",
       "      <td>21060.000000</td>\n",
       "      <td>2459.250000</td>\n",
       "      <td>12.157324</td>\n",
       "      <td>0</td>\n",
       "      <td>2.0</td>\n",
       "      <td>0.339656</td>\n",
       "      <td>0.656468</td>\n",
       "      <td>0.513171</td>\n",
       "      <td>0.117428</td>\n",
       "      <td>0.000000</td>\n",
       "      <td>1</td>\n",
       "    </tr>\n",
       "  </tbody>\n",
       "</table>\n",
       "<p>54025 rows × 11 columns</p>\n",
       "</div>"
      ],
      "text/plain": [
       "       receita_cliente  anuidade_emprestimo  anos_casa_propria  telefone_trab  \\\n",
       "0         12600.000000          3569.400000          12.157324              1   \n",
       "1          9000.000000          2722.188351           7.000000              0   \n",
       "2         15750.000000          4477.500000          12.000000              0   \n",
       "3          9000.000000          1309.050000          12.157324              0   \n",
       "4          7650.000000          1125.000000          12.157324              0   \n",
       "...                ...                  ...                ...            ...   \n",
       "54020     16855.246324           675.000000          12.157324              1   \n",
       "54021     11250.000000           675.000000          14.000000              0   \n",
       "54022     13500.000000           900.000000          64.000000              0   \n",
       "54023     11250.000000          2371.500000          12.157324              0   \n",
       "54024     21060.000000          2459.250000          12.157324              0   \n",
       "\n",
       "       avaliacao_cidade   score_1   score_2   score_3  score_social  \\\n",
       "0                   2.0  0.057153  0.527227  0.513171      0.117428   \n",
       "1                   2.0  0.657661  0.285898  0.614414      0.222700   \n",
       "2                   2.0  0.501213  0.695423  0.513171      0.117428   \n",
       "3                   3.0  0.501213  0.155973  0.513171      0.117428   \n",
       "4                   2.0  0.294328  0.152076  0.513171      0.117428   \n",
       "...                 ...       ...       ...       ...           ...   \n",
       "54020               2.0  0.501213  0.180635  0.513171      0.082500   \n",
       "54021               3.0  0.409620  0.606002  0.513171      0.117428   \n",
       "54022               2.0  0.162632  0.525412  0.513171      0.117428   \n",
       "54023               3.0  0.501213  0.664027  0.513171      0.117428   \n",
       "54024               2.0  0.339656  0.656468  0.513171      0.117428   \n",
       "\n",
       "       troca_telefone  inadimplente  \n",
       "0         2545.000000             0  \n",
       "1          495.000000             0  \n",
       "2         1212.000000             0  \n",
       "3          515.000000             0  \n",
       "4          162.000000             0  \n",
       "...               ...           ...  \n",
       "54020        0.000000             1  \n",
       "54021      466.000000             1  \n",
       "54022      962.106056             1  \n",
       "54023      482.000000             1  \n",
       "54024        0.000000             1  \n",
       "\n",
       "[54025 rows x 11 columns]"
      ]
     },
     "execution_count": 3,
     "metadata": {},
     "output_type": "execute_result"
    }
   ],
   "source": [
    "dados #Base de dados ja esta tratada"
   ]
  },
  {
   "cell_type": "code",
   "execution_count": 4,
   "metadata": {
    "id": "NKbv-w-3leuU"
   },
   "outputs": [],
   "source": [
    "x = dados.drop('inadimplente', axis= 1) #Estou coletando as variaveis explicativas, que irão auxiliar na resposta para a variavel alvo(são todas as colunas menos a inadimplente) o axis seria para falar que a coluna daa base de dados esta sendo alterada\n",
    "y = dados['inadimplente'] #Variavel alvo"
   ]
  },
  {
   "cell_type": "code",
   "execution_count": 5,
   "metadata": {
    "id": "FTipCyhPmQX2"
   },
   "outputs": [],
   "source": [
    "from sklearn.tree import DecisionTreeClassifier #Atraves da biblioteca scikit-learn é possível utilizar algoitmos de Machinelearning cmomo a arvore de decisão"
   ]
  },
  {
   "cell_type": "code",
   "execution_count": 6,
   "metadata": {
    "id": "_lzOsMZamTZr"
   },
   "outputs": [
    {
     "data": {
      "text/plain": [
       "1.0"
      ]
     },
     "execution_count": 6,
     "metadata": {},
     "output_type": "execute_result"
    }
   ],
   "source": [
    "modelo = DecisionTreeClassifier() #Criando o modelo\n",
    "modelo.fit(x,y) #O modelo ira entender os padrões dos dados passados e ira aprender dados novos\n",
    "modelo.score(x,y) #Estou testando para verificar a taxa de acerto do modelo"
   ]
  },
  {
   "cell_type": "code",
   "execution_count": 7,
   "metadata": {
    "id": "D1j60eFOeY4-"
   },
   "outputs": [
    {
     "name": "stdout",
     "output_type": "stream",
     "text": [
      "Acurácia: 1.0\n"
     ]
    }
   ],
   "source": [
    "print(f'Acurácia: {modelo.score(x,y)}') #taxa de acerto"
   ]
  },
  {
   "cell_type": "code",
   "execution_count": 8,
   "metadata": {},
   "outputs": [],
   "source": [
    "from sklearn.model_selection import train_test_split #irei usar essa biblioteca para poder separar os dados, em treino, validação e teste com o intuito de poder realizar uma validação do modelo mais acertiva, "
   ]
  },
  {
   "cell_type": "code",
   "execution_count": 9,
   "metadata": {},
   "outputs": [],
   "source": [
    "x, x_teste, y, y_teste = train_test_split(x,y, test_size = 0.15, stratify= y, random_state=5  ) #O test_size indica que 15% dos dados serão usados para teste, e os 85% restantes para treinamento, o stratify garante que a divisão dos dados respeite a proporção das classes de y no conjunto original, mantém o balanceamento das classes nos conjuntos de treino e teste, e o x,y seriam a base dos dados que estão divididos\n",
    "x_treino, x_val, y_treino, y_val = train_test_split(x,y, stratify= y, random_state=5) #O valor de x e y não são mais os mesmos de antes poi por contya do codigo anterior, só a parte de treino e validação esta sendo separada"
   ]
  },
  {
   "cell_type": "code",
   "execution_count": 10,
   "metadata": {},
   "outputs": [
    {
     "name": "stdout",
     "output_type": "stream",
     "text": [
      "Acurácia de treino: 1.0\n",
      "Acurácia de validação: 0.8509711697587318\n"
     ]
    }
   ],
   "source": [
    "modelo = DecisionTreeClassifier()\n",
    "modelo.fit(x_treino, y_treino)\n",
    "print(f'Acurácia de treino: {modelo.score(x_treino, y_treino)}')\n",
    "print(f'Acurácia de validação: {modelo.score(x_val, y_val)}') #Esse seria o teste com os dados novos, pois o modelo não viu esses dados durante o treinamento"
   ]
  },
  {
   "cell_type": "code",
   "execution_count": 11,
   "metadata": {},
   "outputs": [
    {
     "name": "stdout",
     "output_type": "stream",
     "text": [
      "Acurácia de treino: 0.9205865272938444\n",
      "Acurácia de validação: 0.9057573382109573\n"
     ]
    }
   ],
   "source": [
    "modelo = DecisionTreeClassifier(max_depth=10) #Estou definindo a profundiade da arvore, para evitar que a mesma não apenas memorize os dados de treinamento, com isso o modelo esta aprendendo melhor o padrão dos dados, inves de decorar\n",
    "modelo.fit(x_treino, y_treino)\n",
    "print(f'Acurácia de treino: {modelo.score(x_treino, y_treino)}')\n",
    "print(f'Acurácia de validação: {modelo.score(x_val, y_val)}') "
   ]
  },
  {
   "cell_type": "code",
   "execution_count": 12,
   "metadata": {},
   "outputs": [],
   "source": [
    "from sklearn.metrics import confusion_matrix #A matriz ira comparar o resultado de classificação do modelo com o resultado real"
   ]
  },
  {
   "cell_type": "code",
   "execution_count": 14,
   "metadata": {},
   "outputs": [
    {
     "name": "stdout",
     "output_type": "stream",
     "text": [
      "[[10359   120]\n",
      " [  962    40]]\n"
     ]
    }
   ],
   "source": [
    "y_previsto = modelo.predict(x_val) #O modelo esta fazendo uma previsão(Esta entendendo os padrões dods dados e dando uma resposta) com base em dados que não foram visto durante o treinamento\n",
    "matriz_confusao = confusion_matrix(y_val, y_previsto)\n",
    "print(matriz_confusao)"
   ]
  },
  {
   "cell_type": "code",
   "execution_count": 19,
   "metadata": {},
   "outputs": [],
   "source": [
    "from sklearn.metrics import ConfusionMatrixDisplay #Ira melhorar o entendimento da matriz"
   ]
  },
  {
   "cell_type": "code",
   "execution_count": 20,
   "metadata": {},
   "outputs": [
    {
     "data": {
      "image/png": "[encoded data removed]",
      "text/plain": [
       "<Figure size 640x480 with 2 Axes>"
      ]
     },
     "metadata": {},
     "output_type": "display_data"
    }
   ],
   "source": [
    "vizualizacao = ConfusionMatrixDisplay(confusion_matrix= matriz_confusao)\n",
    "vizualizacao.plot(); #O ponto e virgula faz com que não mostre as informações textual que aparecem acima dos dados"
   ]
  },
  {
   "cell_type": "code",
   "execution_count": 21,
   "metadata": {},
   "outputs": [
    {
     "data": {
      "image/png": "[encoded data removed]",
      "text/plain": [
       "<Figure size 640x480 with 2 Axes>"
      ]
     },
     "metadata": {},
     "output_type": "display_data"
    }
   ],
   "source": [
    "vizualizacao = ConfusionMatrixDisplay(confusion_matrix= matriz_confusao, display_labels=['Adimplente', 'Inadimplente']) #Estou trocando os valores de 0 e 1 que aparecem no grtafico acima\n",
    "vizualizacao.plot();\n",
    "#1e+04 seria 10 elevado a 4, no caso seria 10000"
   ]
  },
  {
   "cell_type": "code",
   "execution_count": 22,
   "metadata": {},
   "outputs": [],
   "source": [
    "from sklearn.metrics import accuracy_score #ira mostrar a taxa de acerto da matriz_confusao"
   ]
  },
  {
   "cell_type": "code",
   "execution_count": 23,
   "metadata": {},
   "outputs": [
    {
     "name": "stdout",
     "output_type": "stream",
     "text": [
      "Acuracia : 0.9057573382109573 \n"
     ]
    }
   ],
   "source": [
    "print(f'Acuracia : {accuracy_score(y_val, y_previsto)} ')"
   ]
  },
  {
   "cell_type": "code",
   "execution_count": null,
   "metadata": {},
   "outputs": [],
   "source": []
  },
  {
   "cell_type": "code",
   "execution_count": null,
   "metadata": {},
   "outputs": [],
   "source": []
  },
  {
   "cell_type": "code",
   "execution_count": null,
   "metadata": {},
   "outputs": [],
   "source": []
  }
 ],
 "metadata": {
  "colab": {
   "authorship_tag": "ABX9TyNVRlnXWC2wP2xPuQ9O6L6Q",
   "provenance": []
  },
  "kernelspec": {
   "display_name": "venv",
   "language": "python",
   "name": "python3"
  },
  "language_info": {
   "codemirror_mode": {
    "name": "ipython",
    "version": 3
   },
   "file_extension": ".py",
   "mimetype": "text/x-python",
   "name": "python",
   "nbconvert_exporter": "python",
   "pygments_lexer": "ipython3",
   "version": "3.13.1"
  }
 },
 "nbformat": 4,
 "nbformat_minor": 0
}
