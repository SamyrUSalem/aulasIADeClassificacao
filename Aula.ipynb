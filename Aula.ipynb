{
 "cells": [
  {
   "cell_type": "markdown",
   "metadata": {
    "id": "MCqTDybk4ShK"
   },
   "source": [
    "# <font color='dark'>**Classificação: Validação de modelos e métricas de avaliação**</h1>"
   ]
  },
  {
   "cell_type": "markdown",
   "metadata": {
    "id": "WscU3KG7a9No"
   },
   "source": [
    "### Projeto\n",
    "\n",
    "Uma empresa de empréstimo de automóveis está passando por uma situação complicada, com alta demanda para uma frota reduzida de veículos e alto número de inadimplentes, trazendo um prejuízo grande para a empresa.\n",
    "\n",
    "Nós fomos contratados para buscar melhorias na identificação de inadimplentes. A análise dos clientes atualmente é feita de forma manual, cliente por cliente, tomando muito tempo e ainda assim a detecção de inadimplentes é muito imprecisa.\n",
    "\n",
    "Nossa tarefa é utilizar os dados fornecidos pela empresa para **classificar** os clientes em adimplentes e inadimplentes."
   ]
  },
  {
   "cell_type": "markdown",
   "metadata": {
    "id": "WgS8iF51Csrn"
   },
   "source": [
    "## <font color='dark'>Classificando dados</h1>"
   ]
  },
  {
   "cell_type": "markdown",
   "metadata": {
    "id": "6lExmBuKn-xe"
   },
   "source": [
    "### Criando um modelo inicial"
   ]
  },
  {
   "cell_type": "code",
   "execution_count": 1,
   "metadata": {
    "id": "ZP9giPwL7Qvz"
   },
   "outputs": [
    {
     "name": "stdout",
     "output_type": "stream",
     "text": [
      "Collecting pandas\n",
      "  Downloading pandas-2.2.3-cp313-cp313-win_amd64.whl.metadata (19 kB)\n",
      "Collecting numpy>=1.26.0 (from pandas)\n",
      "  Downloading numpy-2.2.1-cp313-cp313-win_amd64.whl.metadata (60 kB)\n",
      "Requirement already satisfied: python-dateutil>=2.8.2 in c:\\users\\samyr\\documents\\aulas\\iaclassificacao\\.venv\\lib\\site-packages (from pandas) (2.9.0.post0)\n",
      "Collecting pytz>=2020.1 (from pandas)\n",
      "  Downloading pytz-2024.2-py2.py3-none-any.whl.metadata (22 kB)\n",
      "Collecting tzdata>=2022.7 (from pandas)\n",
      "  Downloading tzdata-2024.2-py2.py3-none-any.whl.metadata (1.4 kB)\n",
      "Requirement already satisfied: six>=1.5 in c:\\users\\samyr\\documents\\aulas\\iaclassificacao\\.venv\\lib\\site-packages (from python-dateutil>=2.8.2->pandas) (1.17.0)\n",
      "Downloading pandas-2.2.3-cp313-cp313-win_amd64.whl (11.5 MB)\n",
      "   ---------------------------------------- 0.0/11.5 MB ? eta -:--:--\n",
      "   ---------------------------------------- 0.0/11.5 MB ? eta -:--:--\n",
      "    --------------------------------------- 0.3/11.5 MB ? eta -:--:--\n",
      "   -- ------------------------------------- 0.8/11.5 MB 1.3 MB/s eta 0:00:08\n",
      "   --- ------------------------------------ 1.0/11.5 MB 1.4 MB/s eta 0:00:08\n",
      "   --- ------------------------------------ 1.0/11.5 MB 1.4 MB/s eta 0:00:08\n",
      "   ---- ----------------------------------- 1.3/11.5 MB 1.2 MB/s eta 0:00:09\n",
      "   ----- ---------------------------------- 1.6/11.5 MB 1.1 MB/s eta 0:00:09\n",
      "   ------ --------------------------------- 1.8/11.5 MB 1.1 MB/s eta 0:00:09\n",
      "   ------ --------------------------------- 1.8/11.5 MB 1.1 MB/s eta 0:00:09\n",
      "   ------- -------------------------------- 2.1/11.5 MB 1.1 MB/s eta 0:00:09\n",
      "   --------- ------------------------------ 2.6/11.5 MB 1.1 MB/s eta 0:00:08\n",
      "   ---------- ----------------------------- 2.9/11.5 MB 1.2 MB/s eta 0:00:08\n",
      "   ---------- ----------------------------- 3.1/11.5 MB 1.2 MB/s eta 0:00:08\n",
      "   ----------- ---------------------------- 3.4/11.5 MB 1.2 MB/s eta 0:00:07\n",
      "   ------------ --------------------------- 3.7/11.5 MB 1.2 MB/s eta 0:00:07\n",
      "   ------------ --------------------------- 3.7/11.5 MB 1.2 MB/s eta 0:00:07\n",
      "   ------------- -------------------------- 3.9/11.5 MB 1.1 MB/s eta 0:00:07\n",
      "   -------------- ------------------------- 4.2/11.5 MB 1.2 MB/s eta 0:00:07\n",
      "   --------------- ------------------------ 4.5/11.5 MB 1.2 MB/s eta 0:00:07\n",
      "   ---------------- ----------------------- 4.7/11.5 MB 1.1 MB/s eta 0:00:06\n",
      "   ---------------- ----------------------- 4.7/11.5 MB 1.1 MB/s eta 0:00:06\n",
      "   ----------------- ---------------------- 5.0/11.5 MB 1.1 MB/s eta 0:00:06\n",
      "   ------------------ --------------------- 5.2/11.5 MB 1.1 MB/s eta 0:00:06\n",
      "   ------------------- -------------------- 5.5/11.5 MB 1.1 MB/s eta 0:00:06\n",
      "   --------------------- ------------------ 6.0/11.5 MB 1.2 MB/s eta 0:00:05\n",
      "   --------------------- ------------------ 6.0/11.5 MB 1.2 MB/s eta 0:00:05\n",
      "   --------------------- ------------------ 6.3/11.5 MB 1.1 MB/s eta 0:00:05\n",
      "   ---------------------- ----------------- 6.6/11.5 MB 1.1 MB/s eta 0:00:05\n",
      "   ----------------------- ---------------- 6.8/11.5 MB 1.1 MB/s eta 0:00:05\n",
      "   ------------------------ --------------- 7.1/11.5 MB 1.2 MB/s eta 0:00:04\n",
      "   ------------------------- -------------- 7.3/11.5 MB 1.2 MB/s eta 0:00:04\n",
      "   -------------------------- ------------- 7.6/11.5 MB 1.2 MB/s eta 0:00:04\n",
      "   --------------------------- ------------ 7.9/11.5 MB 1.2 MB/s eta 0:00:04\n",
      "   ---------------------------- ----------- 8.1/11.5 MB 1.2 MB/s eta 0:00:03\n",
      "   ----------------------------- ---------- 8.4/11.5 MB 1.2 MB/s eta 0:00:03\n",
      "   ------------------------------- -------- 8.9/11.5 MB 1.2 MB/s eta 0:00:03\n",
      "   ------------------------------- -------- 9.2/11.5 MB 1.2 MB/s eta 0:00:02\n",
      "   -------------------------------- ------- 9.4/11.5 MB 1.2 MB/s eta 0:00:02\n",
      "   --------------------------------- ------ 9.7/11.5 MB 1.2 MB/s eta 0:00:02\n",
      "   ---------------------------------- ----- 10.0/11.5 MB 1.2 MB/s eta 0:00:02\n",
      "   ----------------------------------- ---- 10.2/11.5 MB 1.2 MB/s eta 0:00:02\n",
      "   ------------------------------------ --- 10.5/11.5 MB 1.2 MB/s eta 0:00:01\n",
      "   ------------------------------------- -- 10.7/11.5 MB 1.2 MB/s eta 0:00:01\n",
      "   -------------------------------------- - 11.0/11.5 MB 1.2 MB/s eta 0:00:01\n",
      "   ---------------------------------------  11.3/11.5 MB 1.2 MB/s eta 0:00:01\n",
      "   ---------------------------------------- 11.5/11.5 MB 1.2 MB/s eta 0:00:00\n",
      "Downloading numpy-2.2.1-cp313-cp313-win_amd64.whl (12.6 MB)\n",
      "   ---------------------------------------- 0.0/12.6 MB ? eta -:--:--\n",
      "    --------------------------------------- 0.3/12.6 MB ? eta -:--:--\n",
      "   - -------------------------------------- 0.5/12.6 MB 1.4 MB/s eta 0:00:09\n",
      "   -- ------------------------------------- 0.8/12.6 MB 1.4 MB/s eta 0:00:09\n",
      "   --- ------------------------------------ 1.0/12.6 MB 1.3 MB/s eta 0:00:09\n",
      "   ---- ----------------------------------- 1.3/12.6 MB 1.3 MB/s eta 0:00:09\n",
      "   ---- ----------------------------------- 1.6/12.6 MB 1.3 MB/s eta 0:00:09\n",
      "   ------ --------------------------------- 2.1/12.6 MB 1.4 MB/s eta 0:00:08\n",
      "   ------ --------------------------------- 2.1/12.6 MB 1.4 MB/s eta 0:00:08\n",
      "   ------- -------------------------------- 2.4/12.6 MB 1.3 MB/s eta 0:00:08\n",
      "   --------- ------------------------------ 2.9/12.6 MB 1.4 MB/s eta 0:00:08\n",
      "   --------- ------------------------------ 3.1/12.6 MB 1.4 MB/s eta 0:00:07\n",
      "   ---------- ----------------------------- 3.4/12.6 MB 1.4 MB/s eta 0:00:07\n",
      "   ----------- ---------------------------- 3.7/12.6 MB 1.4 MB/s eta 0:00:07\n",
      "   ------------ --------------------------- 3.9/12.6 MB 1.4 MB/s eta 0:00:07\n",
      "   ------------ --------------------------- 3.9/12.6 MB 1.4 MB/s eta 0:00:07\n",
      "   -------------- ------------------------- 4.5/12.6 MB 1.3 MB/s eta 0:00:07\n",
      "   -------------- ------------------------- 4.7/12.6 MB 1.3 MB/s eta 0:00:06\n",
      "   -------------- ------------------------- 4.7/12.6 MB 1.3 MB/s eta 0:00:06\n",
      "   --------------- ------------------------ 5.0/12.6 MB 1.3 MB/s eta 0:00:06\n",
      "   --------------- ------------------------ 5.0/12.6 MB 1.3 MB/s eta 0:00:06\n",
      "   ---------------- ----------------------- 5.2/12.6 MB 1.2 MB/s eta 0:00:06\n",
      "   ----------------- ---------------------- 5.5/12.6 MB 1.2 MB/s eta 0:00:06\n",
      "   ------------------ --------------------- 5.8/12.6 MB 1.2 MB/s eta 0:00:06\n",
      "   ------------------- -------------------- 6.0/12.6 MB 1.2 MB/s eta 0:00:06\n",
      "   ------------------- -------------------- 6.3/12.6 MB 1.2 MB/s eta 0:00:06\n",
      "   -------------------- ------------------- 6.6/12.6 MB 1.2 MB/s eta 0:00:05\n",
      "   --------------------- ------------------ 6.8/12.6 MB 1.2 MB/s eta 0:00:05\n",
      "   ---------------------- ----------------- 7.1/12.6 MB 1.2 MB/s eta 0:00:05\n",
      "   ----------------------- ---------------- 7.3/12.6 MB 1.2 MB/s eta 0:00:05\n",
      "   ------------------------ --------------- 7.6/12.6 MB 1.2 MB/s eta 0:00:05\n",
      "   ------------------------ --------------- 7.6/12.6 MB 1.2 MB/s eta 0:00:05\n",
      "   ------------------------ --------------- 7.9/12.6 MB 1.2 MB/s eta 0:00:04\n",
      "   ------------------------- -------------- 8.1/12.6 MB 1.2 MB/s eta 0:00:04\n",
      "   -------------------------- ------------- 8.4/12.6 MB 1.2 MB/s eta 0:00:04\n",
      "   --------------------------- ------------ 8.7/12.6 MB 1.2 MB/s eta 0:00:04\n",
      "   ---------------------------- ----------- 8.9/12.6 MB 1.2 MB/s eta 0:00:04\n",
      "   ----------------------------- ---------- 9.2/12.6 MB 1.2 MB/s eta 0:00:03\n",
      "   ----------------------------- ---------- 9.4/12.6 MB 1.2 MB/s eta 0:00:03\n",
      "   ------------------------------ --------- 9.7/12.6 MB 1.2 MB/s eta 0:00:03\n",
      "   ------------------------------ --------- 9.7/12.6 MB 1.2 MB/s eta 0:00:03\n",
      "   ------------------------------- -------- 10.0/12.6 MB 1.2 MB/s eta 0:00:03\n",
      "   -------------------------------- ------- 10.2/12.6 MB 1.2 MB/s eta 0:00:03\n",
      "   -------------------------------- ------- 10.2/12.6 MB 1.2 MB/s eta 0:00:03\n",
      "   --------------------------------- ------ 10.5/12.6 MB 1.2 MB/s eta 0:00:02\n",
      "   ---------------------------------- ----- 10.7/12.6 MB 1.2 MB/s eta 0:00:02\n",
      "   ---------------------------------- ----- 11.0/12.6 MB 1.2 MB/s eta 0:00:02\n",
      "   ----------------------------------- ---- 11.3/12.6 MB 1.2 MB/s eta 0:00:02\n",
      "   ------------------------------------ --- 11.5/12.6 MB 1.2 MB/s eta 0:00:01\n",
      "   ------------------------------------- -- 11.8/12.6 MB 1.2 MB/s eta 0:00:01\n",
      "   ------------------------------------- -- 11.8/12.6 MB 1.2 MB/s eta 0:00:01\n",
      "   -------------------------------------- - 12.1/12.6 MB 1.1 MB/s eta 0:00:01\n",
      "   ---------------------------------------  12.3/12.6 MB 1.1 MB/s eta 0:00:01\n",
      "   ---------------------------------------- 12.6/12.6 MB 1.1 MB/s eta 0:00:00\n",
      "Downloading pytz-2024.2-py2.py3-none-any.whl (508 kB)\n",
      "Downloading tzdata-2024.2-py2.py3-none-any.whl (346 kB)\n",
      "Installing collected packages: pytz, tzdata, numpy, pandas\n",
      "Successfully installed numpy-2.2.1 pandas-2.2.3 pytz-2024.2 tzdata-2024.2\n",
      "Note: you may need to restart the kernel to use updated packages.\n"
     ]
    }
   ],
   "source": [
    "pip install pandas\n"
   ]
  },
  {
   "cell_type": "code",
   "execution_count": null,
   "metadata": {
    "id": "w1MaIGaj7UZL"
   },
   "outputs": [],
   "source": []
  },
  {
   "cell_type": "code",
   "execution_count": null,
   "metadata": {
    "id": "ef4aPUAHkyLQ"
   },
   "outputs": [],
   "source": []
  },
  {
   "cell_type": "code",
   "execution_count": null,
   "metadata": {
    "id": "NKbv-w-3leuU"
   },
   "outputs": [],
   "source": []
  },
  {
   "cell_type": "code",
   "execution_count": null,
   "metadata": {
    "id": "FTipCyhPmQX2"
   },
   "outputs": [],
   "source": []
  },
  {
   "cell_type": "code",
   "execution_count": null,
   "metadata": {
    "id": "_lzOsMZamTZr"
   },
   "outputs": [],
   "source": []
  },
  {
   "cell_type": "code",
   "execution_count": null,
   "metadata": {
    "id": "D1j60eFOeY4-"
   },
   "outputs": [],
   "source": []
  }
 ],
 "metadata": {
  "colab": {
   "authorship_tag": "ABX9TyNVRlnXWC2wP2xPuQ9O6L6Q",
   "provenance": []
  },
  "kernelspec": {
   "display_name": ".venv",
   "language": "python",
   "name": "python3"
  },
  "language_info": {
   "codemirror_mode": {
    "name": "ipython",
    "version": 3
   },
   "file_extension": ".py",
   "mimetype": "text/x-python",
   "name": "python",
   "nbconvert_exporter": "python",
   "pygments_lexer": "ipython3",
   "version": "3.13.1"
  }
 },
 "nbformat": 4,
 "nbformat_minor": 0
}
